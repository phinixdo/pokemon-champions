{
 "cells": [
  {
   "cell_type": "code",
   "execution_count": 1,
   "metadata": {},
   "outputs": [],
   "source": [
    "# import modules\n",
    "\n",
    "import requests\n",
    "from bs4 import BeautifulSoup\n",
    "import re\n",
    "from time import sleep\n",
    "import csv\n",
    "import pandas as pd"
   ]
  },
  {
   "cell_type": "code",
   "execution_count": 2,
   "metadata": {},
   "outputs": [],
   "source": [
    "# url of pokemon list\n",
    "url = 'https://bulbapedia.bulbagarden.net/wiki/List_of_Pok%C3%A9mon_by_National_Pok%C3%A9dex_number'\n",
    "\n",
    "# mine content\n",
    "r = requests.get(url)\n",
    "\n",
    "# gather text\n",
    "html_content = r.text\n",
    "\n",
    "# convert html into beautiful soup object\n",
    "soup = BeautifulSoup(html_content, 'lxml')"
   ]
  },
  {
   "cell_type": "code",
   "execution_count": 3,
   "metadata": {},
   "outputs": [
    {
     "data": {
      "text/plain": [
       "'List of Pokémon by National Pokédex number - Bulbapedia, the community-driven Pokémon encyclopedia'"
      ]
     },
     "execution_count": 3,
     "metadata": {},
     "output_type": "execute_result"
    }
   ],
   "source": [
    "# Title tag of soup object\n",
    "soup.title.string"
   ]
  },
  {
   "cell_type": "code",
   "execution_count": 4,
   "metadata": {},
   "outputs": [],
   "source": [
    "# Create pokemon list of Bulbapedia links\n",
    "\n",
    "# gather all lines with links from beautiful soup object\n",
    "http_links = soup.find_all('a', {'href': re.compile(r'\\(Pok%C3%A9mon\\)')})\n",
    "\n",
    "# append link to pokemon list\n",
    "pokemon_links = []\n",
    "for link in http_links:\n",
    "    if link['href'] not in pokemon_links:\n",
    "        pokemon_links.append(link['href'])"
   ]
  },
  {
   "cell_type": "code",
   "execution_count": 5,
   "metadata": {},
   "outputs": [
    {
     "data": {
      "text/plain": [
       "809"
      ]
     },
     "execution_count": 5,
     "metadata": {},
     "output_type": "execute_result"
    }
   ],
   "source": [
    "# check for 809 Pokemon (includes Meltan & Melmetal)\n",
    "len(pokemon_links)"
   ]
  },
  {
   "cell_type": "code",
   "execution_count": 6,
   "metadata": {},
   "outputs": [],
   "source": [
    "# url of pokemon \n",
    "url_poke = 'https://bulbapedia.bulbagarden.net' + pokemon_links[1]\n",
    "\n",
    "# mine content\n",
    "r_poke = requests.get(url_poke)\n",
    "\n",
    "# gather text\n",
    "html_content_poke = r_poke.text\n",
    "\n",
    "soup_poke = BeautifulSoup(html_content_poke, 'lxml')"
   ]
  },
  {
   "cell_type": "code",
   "execution_count": 7,
   "metadata": {},
   "outputs": [
    {
     "data": {
      "text/plain": [
       "[<a id=\"top\"></a>]"
      ]
     },
     "execution_count": 7,
     "metadata": {},
     "output_type": "execute_result"
    }
   ],
   "source": [
    "soup.find_all('a', {'id': re.compile(r'top')})"
   ]
  },
  {
   "cell_type": "code",
   "execution_count": 8,
   "metadata": {},
   "outputs": [],
   "source": [
    "# filter for stats\n",
    "\n",
    "# hp\n",
    "soup_poke.find_all('th', {'style': re.compile(r'#FA92B2; width: 30px')})[0].string.strip()\n",
    "\n",
    "# attack\n",
    "soup_poke.find_all('th', {'style': re.compile(r'#F5AC78; width: 30px')})[0].string.strip()\n",
    "\n",
    "# stats and corresponding color bands on bulbapedia stat table\n",
    "stats = ['hp', 'attack', 'defense', 'sp.atk', 'sp.def', 'speed']\n",
    "colorbands = ['#FA92B2','#F5AC78','#FAE078','#9DB7F5','#A7DB8D','#FA92B2']"
   ]
  },
  {
   "cell_type": "code",
   "execution_count": 9,
   "metadata": {},
   "outputs": [
    {
     "data": {
      "text/plain": [
       "'Bulbasaur'"
      ]
     },
     "execution_count": 9,
     "metadata": {},
     "output_type": "execute_result"
    }
   ],
   "source": [
    "soup_poke.find_all('big')[0].string.strip()#, {'style': re.compile(r'#FA92B2; width: 30px')})"
   ]
  },
  {
   "cell_type": "code",
   "execution_count": 10,
   "metadata": {},
   "outputs": [],
   "source": [
    "# function to pull a list of pokemon names with stats from bulbapedia\n",
    "\n",
    "def poke_web_scrape(url_list):\n",
    "    '''\n",
    "    Scrape bulbapedia webite for pokemon name and stats\n",
    "    \n",
    "    input: list of wiki suffix\n",
    "    output: list of lists with pokemon name and stats\n",
    "    '''\n",
    "    for poke_link in url_list:\n",
    "        \n",
    "        # obtain html\n",
    "        url_poke = 'https://bulbapedia.bulbagarden.net' + poke_link\n",
    "        r_poke = requests.get(url_poke)\n",
    "        html_content_poke = r_poke.text\n",
    "        soup_poke = r_poke = BeautifulSoup(html_content_poke, 'lxml')\n",
    "        \n",
    "        # initialize list\n",
    "        poke_stat_list = []\n",
    "        \n",
    "        # obtain pokemon name and append to list\n",
    "        poke_name = soup_poke.find_all('big')[0].string.strip()\n",
    "        poke_stat_list.append(poke_name)\n",
    "        \n",
    "        # obtain hp, attack, defense, sp.atk, sp.def, and speed stats\n",
    "        for colorband in colorbands:\n",
    "            stat_string = colorband+'; width: 30px'\n",
    "            stat_value = soup_poke.find_all('th', {'style': re.compile(stat_string)})[0].string.strip()\n",
    "            poke_stat_list.append(stat_value)\n",
    "            \n",
    "        poke_table.append(poke_stat_list)    \n",
    "    \n",
    "    \n",
    "    sleep(1)\n",
    "    \n",
    "    return poke_table"
   ]
  },
  {
   "cell_type": "code",
   "execution_count": 11,
   "metadata": {},
   "outputs": [],
   "source": [
    "poke_table = []\n",
    "table_values = poke_web_scrape(pokemon_links)"
   ]
  },
  {
   "cell_type": "code",
   "execution_count": 12,
   "metadata": {},
   "outputs": [
    {
     "data": {
      "text/html": [
       "<div>\n",
       "<style scoped>\n",
       "    .dataframe tbody tr th:only-of-type {\n",
       "        vertical-align: middle;\n",
       "    }\n",
       "\n",
       "    .dataframe tbody tr th {\n",
       "        vertical-align: top;\n",
       "    }\n",
       "\n",
       "    .dataframe thead th {\n",
       "        text-align: right;\n",
       "    }\n",
       "</style>\n",
       "<table border=\"1\" class=\"dataframe\">\n",
       "  <thead>\n",
       "    <tr style=\"text-align: right;\">\n",
       "      <th></th>\n",
       "      <th>Name</th>\n",
       "      <th>hp</th>\n",
       "      <th>attack</th>\n",
       "      <th>defense</th>\n",
       "      <th>sp.atk</th>\n",
       "      <th>sp.def</th>\n",
       "      <th>speed</th>\n",
       "    </tr>\n",
       "  </thead>\n",
       "  <tbody>\n",
       "    <tr>\n",
       "      <th>0</th>\n",
       "      <td>Victini</td>\n",
       "      <td>100</td>\n",
       "      <td>100</td>\n",
       "      <td>100</td>\n",
       "      <td>100</td>\n",
       "      <td>100</td>\n",
       "      <td>100</td>\n",
       "    </tr>\n",
       "    <tr>\n",
       "      <th>1</th>\n",
       "      <td>Bulbasaur</td>\n",
       "      <td>45</td>\n",
       "      <td>49</td>\n",
       "      <td>49</td>\n",
       "      <td>65</td>\n",
       "      <td>65</td>\n",
       "      <td>45</td>\n",
       "    </tr>\n",
       "    <tr>\n",
       "      <th>2</th>\n",
       "      <td>Ivysaur</td>\n",
       "      <td>60</td>\n",
       "      <td>62</td>\n",
       "      <td>63</td>\n",
       "      <td>80</td>\n",
       "      <td>80</td>\n",
       "      <td>60</td>\n",
       "    </tr>\n",
       "    <tr>\n",
       "      <th>3</th>\n",
       "      <td>Venusaur</td>\n",
       "      <td>80</td>\n",
       "      <td>82</td>\n",
       "      <td>83</td>\n",
       "      <td>100</td>\n",
       "      <td>100</td>\n",
       "      <td>80</td>\n",
       "    </tr>\n",
       "    <tr>\n",
       "      <th>4</th>\n",
       "      <td>Charmander</td>\n",
       "      <td>65</td>\n",
       "      <td>52</td>\n",
       "      <td>43</td>\n",
       "      <td>60</td>\n",
       "      <td>50</td>\n",
       "      <td>65</td>\n",
       "    </tr>\n",
       "  </tbody>\n",
       "</table>\n",
       "</div>"
      ],
      "text/plain": [
       "         Name   hp attack defense sp.atk sp.def speed\n",
       "0     Victini  100    100     100    100    100   100\n",
       "1   Bulbasaur   45     49      49     65     65    45\n",
       "2     Ivysaur   60     62      63     80     80    60\n",
       "3    Venusaur   80     82      83    100    100    80\n",
       "4  Charmander   65     52      43     60     50    65"
      ]
     },
     "execution_count": 12,
     "metadata": {},
     "output_type": "execute_result"
    }
   ],
   "source": [
    "headers = ['Name'] + stats\n",
    "\n",
    "pokemon = pd.DataFrame(table_values, columns=headers)\n",
    "pokemon.head()"
   ]
  },
  {
   "cell_type": "code",
   "execution_count": 13,
   "metadata": {},
   "outputs": [],
   "source": [
    "pokemon.to_csv('data\\pokemon.csv', index=False)"
   ]
  }
 ],
 "metadata": {
  "kernelspec": {
   "display_name": "Python 3",
   "language": "python",
   "name": "python3"
  },
  "language_info": {
   "codemirror_mode": {
    "name": "ipython",
    "version": 3
   },
   "file_extension": ".py",
   "mimetype": "text/x-python",
   "name": "python",
   "nbconvert_exporter": "python",
   "pygments_lexer": "ipython3",
   "version": "3.6.6"
  }
 },
 "nbformat": 4,
 "nbformat_minor": 2
}
